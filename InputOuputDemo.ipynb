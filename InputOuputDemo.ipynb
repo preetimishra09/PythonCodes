{
 "cells": [
  {
   "cell_type": "code",
   "execution_count": 3,
   "id": "7c67649f",
   "metadata": {},
   "outputs": [],
   "source": [
    "#Demonstartion of print() function\n",
    "#The syntax of print is --- print(\"give the text you want to display on screen\")"
   ]
  },
  {
   "cell_type": "code",
   "execution_count": 4,
   "id": "9c3f5d6c",
   "metadata": {},
   "outputs": [
    {
     "name": "stdout",
     "output_type": "stream",
     "text": [
      "today is the third class of python!! I am excited to learn somethinge new :)\n"
     ]
    }
   ],
   "source": [
    "print(\"today is the third class of python!! I am excited to learn somethinge new :)\")"
   ]
  },
  {
   "cell_type": "code",
   "execution_count": 8,
   "id": "5d51ffff",
   "metadata": {},
   "outputs": [
    {
     "name": "stdout",
     "output_type": "stream",
     "text": [
      "today is the third class of python!!\n",
      " I am excited to learn\n",
      " somethinge new \n",
      ":)\n"
     ]
    }
   ],
   "source": [
    "#formatting the ouput\n",
    "# demo- use of \\n\n",
    "#the purpose of \\n is to introduce a new line while printing a text in print()\n",
    "\n",
    "print(\"today is the third class of python!!\\n I am excited to learn\\n somethinge new \\n:)\")\n",
    "\n",
    "\n"
   ]
  },
  {
   "cell_type": "code",
   "execution_count": 10,
   "id": "1cdf2caa",
   "metadata": {},
   "outputs": [
    {
     "name": "stdout",
     "output_type": "stream",
     "text": [
      "Preeti \n",
      "Mishra\n"
     ]
    }
   ],
   "source": [
    "# TASK 1--- try to print your name with first name and last name in different line\n",
    "\n",
    "print(\"Preeti \\nMishra\")"
   ]
  },
  {
   "cell_type": "code",
   "execution_count": null,
   "id": "562fecb0",
   "metadata": {},
   "outputs": [],
   "source": [
    "#TASK 2-- Print each letter of your name in different lines\n",
    "\n",
    "P\n",
    "R\n",
    "E\n",
    "E\n",
    "T\n",
    "I"
   ]
  },
  {
   "cell_type": "code",
   "execution_count": 11,
   "id": "33a8a278",
   "metadata": {},
   "outputs": [
    {
     "name": "stdout",
     "output_type": "stream",
     "text": [
      "how are you \tJohn\n"
     ]
    }
   ],
   "source": [
    "#demo of tab space \\t\n",
    "\n",
    "print(\"how are you \\tJohn\")"
   ]
  },
  {
   "cell_type": "code",
   "execution_count": null,
   "id": "96d48c39",
   "metadata": {},
   "outputs": [],
   "source": [
    "#TASK 1 print your name like this\n",
    "P  R  E  E  T  I"
   ]
  },
  {
   "cell_type": "code",
   "execution_count": 13,
   "id": "48db6465",
   "metadata": {},
   "outputs": [
    {
     "name": "stdout",
     "output_type": "stream",
     "text": [
      "162\n"
     ]
    }
   ],
   "source": [
    "#Demonstartion of Variables and simple arithmetic operation\n",
    "\n",
    "num1=50\n",
    "num2=112\n",
    "add=num1+num2\n",
    "\n",
    "#to print value stored in a variable put its name in print without double quotes\n",
    "print(add)\n",
    "\n",
    "#Task 1 to take two numbers and substarct them and display result\n"
   ]
  },
  {
   "cell_type": "code",
   "execution_count": 15,
   "id": "3249ad35",
   "metadata": {},
   "outputs": [
    {
     "name": "stdout",
     "output_type": "stream",
     "text": [
      "-10\n",
      "The difference is -10\n",
      "The difference between 15 and 25 is -10\n"
     ]
    }
   ],
   "source": [
    "#demo arithmetic operations\n",
    "\n",
    "a=15\n",
    "b=25\n",
    "\n",
    "sub=a-b\n",
    "print(sub)\n",
    "print(\"The difference is\",sub)\n",
    "print(\"The difference between\",a,\"and\",b,\"is\",sub)\n",
    "\n"
   ]
  },
  {
   "cell_type": "code",
   "execution_count": 19,
   "id": "e9fe2f17",
   "metadata": {},
   "outputs": [
    {
     "name": "stdout",
     "output_type": "stream",
     "text": [
      "The result of 12 + 5 is 17\n",
      "The result of 34 - 60 is -26\n"
     ]
    }
   ],
   "source": [
    "#Arithmetic operators in Python\n",
    "# + --- addition\n",
    "# - ---- Substration\n",
    "# * ----- multiplication\n",
    "#/ --------- division\n",
    "\n",
    "# %----- remainder   5%2= 1, 13%5= 3, 8%4= 0\n",
    "# // --- integer division,  5/2= 2.5   but if you do 5//2=2\n",
    "# ** ---- power 3**2= 9\n",
    "\n",
    "# TASK take any two number - n1 and n2 and perform each of the above\n",
    "#operations one by one and display their result\n",
    "\n",
    "n1=12\n",
    "n2=5\n",
    "add=n1+n2\n",
    "print(\"The result of\",n1, \"+\",n2,\"is\",add)\n",
    "\n",
    "\n",
    "n1=34\n",
    "n2=60\n",
    "sub=n1-n2\n",
    "print(\"The result of\",n1, \"-\",n2,\"is\",sub)\n"
   ]
  },
  {
   "cell_type": "code",
   "execution_count": 20,
   "id": "07d1f273",
   "metadata": {},
   "outputs": [
    {
     "name": "stdout",
     "output_type": "stream",
     "text": [
      "Enter the first number50\n",
      "Enter the second number45\n",
      "The result of 50 + 45 is 95\n"
     ]
    }
   ],
   "source": [
    "#demonstration of input() in python\n",
    "# in Python the function to take input from user is input()\n",
    "#but input() takes string(text input)\n",
    "#you have to use int() outside the input() function to make value as numeric\n",
    "\n",
    "#syntax--- int(input(\"Message for user\"))\n",
    "\n",
    "\n",
    "n1=int(input(\"Enter the first number\"))\n",
    "n2=int(input(\"Enter the second number\"))\n",
    "\n",
    "add=n1+n2\n",
    "print(\"The result of\",n1, \"+\",n2,\"is\",add)\n",
    "\n"
   ]
  },
  {
   "cell_type": "code",
   "execution_count": 22,
   "id": "f5daf6f2",
   "metadata": {},
   "outputs": [
    {
     "name": "stdout",
     "output_type": "stream",
     "text": [
      "Enter your nameGeorge\n",
      "Hello George\n"
     ]
    }
   ],
   "source": [
    "#demo of string input\n",
    "\n",
    "name=input(\"Enter your name\")\n",
    "print(\"Hello\",name)"
   ]
  },
  {
   "cell_type": "code",
   "execution_count": 26,
   "id": "af2601c9",
   "metadata": {},
   "outputs": [
    {
     "name": "stdout",
     "output_type": "stream",
     "text": [
      "Enter a number to echo2323232\n",
      "You have entered 2323232\n"
     ]
    }
   ],
   "source": [
    "#demo of int input\n",
    "\n",
    "demonum=int(input(\"Enter a number to echo\"))\n",
    "print(\"You have entered\",demonum)"
   ]
  },
  {
   "cell_type": "code",
   "execution_count": 25,
   "id": "63e02a32",
   "metadata": {},
   "outputs": [
    {
     "name": "stdout",
     "output_type": "stream",
     "text": [
      "Enter a float value1212.445\n",
      "You have entered 1212.445\n"
     ]
    }
   ],
   "source": [
    "#demo of float input\n",
    "\n",
    "demofloat=float(input(\"Enter a float value\"))\n",
    "print(\"You have entered\",demofloat)\n",
    "\n"
   ]
  },
  {
   "cell_type": "code",
   "execution_count": null,
   "id": "bc9d2e42",
   "metadata": {},
   "outputs": [],
   "source": [
    "#Arithmetic operators in Python\n",
    "# + --- addition\n",
    "# - ---- Substration\n",
    "# * ----- multiplication\n",
    "#/ --------- division\n",
    "\n",
    "# %----- remainder   5%2= 1, 13%5= 3, 8%4= 0\n",
    "# // --- integer division,  5/2= 2.5   but if you do 5//2=2\n",
    "# ** ---- power 3**2= 9\n",
    "\n",
    "# TASK take any two number - n1 and n2 INPUT NUMBERS FROM USER\n",
    "#and perform each of the above\n",
    "#operations one by one and display their result"
   ]
  }
 ],
 "metadata": {
  "kernelspec": {
   "display_name": "Python 3 (ipykernel)",
   "language": "python",
   "name": "python3"
  },
  "language_info": {
   "codemirror_mode": {
    "name": "ipython",
    "version": 3
   },
   "file_extension": ".py",
   "mimetype": "text/x-python",
   "name": "python",
   "nbconvert_exporter": "python",
   "pygments_lexer": "ipython3",
   "version": "3.9.16"
  }
 },
 "nbformat": 4,
 "nbformat_minor": 5
}
